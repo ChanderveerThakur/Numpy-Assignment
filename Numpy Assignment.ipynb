{
 "cells": [
  {
   "cell_type": "markdown",
   "id": "f16155f9",
   "metadata": {},
   "source": [
    "1. What is a Python library? Why do we use Python libraries?"
   ]
  },
  {
   "cell_type": "markdown",
   "id": "5811f2e3",
   "metadata": {},
   "source": [
    "A Python library is a collection of functions and methods that allows you to perform specific tasks without having to write the code yourself. We use Python libraries to save time, leverage existing solutions, and enhance the functionality of our programs by easily incorporating pre-written code for various tasks or functionalities."
   ]
  },
  {
   "cell_type": "markdown",
   "id": "6e0938dc",
   "metadata": {},
   "source": [
    "2. What is the difference between Numpy array an List?"
   ]
  },
  {
   "cell_type": "markdown",
   "id": "f13bc1ec",
   "metadata": {},
   "source": [
    "A NumPy array is a multidimensional grid of values, optimized for numerical operations, offering efficient storage and operations on large datasets. Lists, on the other hand, are basic data structures in Python that can hold elements of different data types, but lack the specialized numerical computation capabilities and efficiency of NumPy arrays."
   ]
  },
  {
   "cell_type": "markdown",
   "id": "c40de3d5",
   "metadata": {},
   "source": [
    "3. Find the shape, size and dimension of the following array?\n",
    "\n",
    "[[1, 2, 3, 4]\n",
    "\n",
    "[5, 6, 7, 8],\n",
    "\n",
    "[9, 10, 11, 12]]"
   ]
  },
  {
   "cell_type": "code",
   "execution_count": 13,
   "id": "471bf0fe",
   "metadata": {},
   "outputs": [
    {
     "name": "stdout",
     "output_type": "stream",
     "text": [
      "2\n",
      "12\n",
      "(3, 4)\n"
     ]
    }
   ],
   "source": [
    "import numpy as np\n",
    "\n",
    "lis = [[1, 2, 3, 4],[5, 6, 7, 8],[9, 10, 11, 12]]\n",
    "arr = np.array(lis)\n",
    "print(arr.ndim)\n",
    "print(arr.size)\n",
    "print(arr.shape)"
   ]
  },
  {
   "cell_type": "markdown",
   "id": "f589353a",
   "metadata": {},
   "source": [
    "4. Write python code to access the first row of the following array?\n",
    "\n",
    "[[1, 2, 3, 4]\n",
    "\n",
    "[5, 6, 7, 8],\n",
    "\n",
    "[9, 10, 11, 12]]"
   ]
  },
  {
   "cell_type": "code",
   "execution_count": 14,
   "id": "b524a783",
   "metadata": {},
   "outputs": [
    {
     "data": {
      "text/plain": [
       "array([1, 2, 3, 4])"
      ]
     },
     "execution_count": 14,
     "metadata": {},
     "output_type": "execute_result"
    }
   ],
   "source": [
    "arr[0]"
   ]
  },
  {
   "cell_type": "markdown",
   "id": "0619bcab",
   "metadata": {},
   "source": [
    "5. How do you access the element at the third row and fourth column from the given numpy array?\n",
    "\n",
    "[[1, 2, 3, 4]\n",
    "\n",
    "[5, 6, 7, 8],\n",
    "\n",
    "[9, 10, 11, 12]]"
   ]
  },
  {
   "cell_type": "code",
   "execution_count": 15,
   "id": "f5c2f837",
   "metadata": {},
   "outputs": [
    {
     "data": {
      "text/plain": [
       "array([12])"
      ]
     },
     "execution_count": 15,
     "metadata": {},
     "output_type": "execute_result"
    }
   ],
   "source": [
    "arr[2 , [3]]"
   ]
  },
  {
   "cell_type": "markdown",
   "id": "fefae739",
   "metadata": {},
   "source": [
    "6. Write code to extract all odd -indexed elements from the given numpy array?\n",
    "\n",
    "[[1, 2, 3, 4]\n",
    "\n",
    "[5, 6, 7, 8],\n",
    "\n",
    "[9, 10, 11, 12]]"
   ]
  },
  {
   "cell_type": "code",
   "execution_count": 20,
   "id": "ff6400d7",
   "metadata": {},
   "outputs": [
    {
     "data": {
      "text/plain": [
       "array([[ 1,  3],\n",
       "       [ 5,  7],\n",
       "       [ 9, 11]])"
      ]
     },
     "execution_count": 20,
     "metadata": {},
     "output_type": "execute_result"
    }
   ],
   "source": [
    "arr[:, [0,2]]"
   ]
  },
  {
   "cell_type": "markdown",
   "id": "406207c6",
   "metadata": {},
   "source": [
    "7. How can you generate a ran^om 3x3 matrix with values between 0 and 1?"
   ]
  },
  {
   "cell_type": "code",
   "execution_count": 23,
   "id": "21145307",
   "metadata": {},
   "outputs": [
    {
     "data": {
      "text/plain": [
       "array([[0.39069147, 0.75898937, 0.53303821],\n",
       "       [0.81995385, 0.63127508, 0.01057809],\n",
       "       [0.27044799, 0.37484575, 0.45198926]])"
      ]
     },
     "execution_count": 23,
     "metadata": {},
     "output_type": "execute_result"
    }
   ],
   "source": [
    "arr1 = np.random.rand(3, 3)\n",
    "arr1"
   ]
  },
  {
   "cell_type": "markdown",
   "id": "ed55a588",
   "metadata": {},
   "source": [
    "8. Describe the difference between np.random.rand and np.random.randn?"
   ]
  },
  {
   "cell_type": "raw",
   "id": "59a2081a",
   "metadata": {},
   "source": [
    "np.random.rand() generates random numbers from a uniform distribution between 0 and 1, with equal probability.\n",
    "np.random.randn() generates random numbers from a standard normal distribution (mean 0, standard deviation 1), following a bell-shaped curve.\n",
    "While rand() produces uniformly distributed numbers, randn() produces normally distributed numbers"
   ]
  },
  {
   "cell_type": "markdown",
   "id": "e5d12251",
   "metadata": {},
   "source": [
    "9. Write code to increase the dimension of the following array?\n",
    "\n",
    "[[1, 2, 3, 4]\n",
    "\n",
    "[5, 6, 7, 8],\n",
    "\n",
    "[9, 10, 11, 12]]"
   ]
  },
  {
   "cell_type": "code",
   "execution_count": 26,
   "id": "a1c728f9",
   "metadata": {},
   "outputs": [
    {
     "name": "stdout",
     "output_type": "stream",
     "text": [
      "[[[ 1  2  3  4]]\n",
      "\n",
      " [[ 5  6  7  8]]\n",
      "\n",
      " [[ 9 10 11 12]]]\n"
     ]
    }
   ],
   "source": [
    "arr_new = np.expand_dims(arr, axis=1)  # Increase dimensions\n",
    "print(arr_new)"
   ]
  },
  {
   "cell_type": "markdown",
   "id": "941dfdb7",
   "metadata": {},
   "source": [
    "10. How to transpose the following array in NumPy?\n",
    "\n",
    "[[1, 2, 3, 4]\n",
    "\n",
    "[5, 6, 7, 8],\n",
    "\n",
    "[9, 10, 11, 12]]"
   ]
  },
  {
   "cell_type": "code",
   "execution_count": 27,
   "id": "a7482f2c",
   "metadata": {},
   "outputs": [
    {
     "name": "stdout",
     "output_type": "stream",
     "text": [
      "[[ 1  5  9]\n",
      " [ 2  6 10]\n",
      " [ 3  7 11]\n",
      " [ 4  8 12]]\n"
     ]
    }
   ],
   "source": [
    "arr_transposed = np.transpose(arr)\n",
    "print(arr_transposed)"
   ]
  },
  {
   "cell_type": "markdown",
   "id": "9db81692",
   "metadata": {},
   "source": [
    "11. Consider the following matrix:\n",
    "\n",
    "Matrix A2 [[1, 2, 3, 4] [5, 6, 7, 8],[9, 10, 11, 12]]\n",
    "\n",
    "Matrix B2 [[1, 2, 3, 4] [5, 6, 7, 8],[9, 10, 11, 12]]"
   ]
  },
  {
   "cell_type": "code",
   "execution_count": 40,
   "id": "b9127845",
   "metadata": {},
   "outputs": [],
   "source": [
    "lis1 =  [[1, 2, 3, 4],[5, 6, 7, 8],[9, 10, 11, 12]]\n",
    "lis2 =  [[1, 2, 3, 4],[5, 6, 7, 8],[9, 10, 11, 12]]\n",
    "\n",
    "mat1 = np.array(lis1)\n",
    "mat2 = np.array(lis2)"
   ]
  },
  {
   "cell_type": "code",
   "execution_count": 37,
   "id": "c86ebfe4",
   "metadata": {},
   "outputs": [
    {
     "data": {
      "text/plain": [
       "array([[ 2,  4,  6,  8],\n",
       "       [10, 12, 14, 16],\n",
       "       [18, 20, 22, 24]])"
      ]
     },
     "execution_count": 37,
     "metadata": {},
     "output_type": "execute_result"
    }
   ],
   "source": [
    "mat1 + mat2  # addtion between both matrix"
   ]
  },
  {
   "cell_type": "code",
   "execution_count": 43,
   "id": "a13bb395",
   "metadata": {},
   "outputs": [
    {
     "data": {
      "text/plain": [
       "array([[  1,   4,   9,  16],\n",
       "       [ 25,  36,  49,  64],\n",
       "       [ 81, 100, 121, 144]])"
      ]
     },
     "execution_count": 43,
     "metadata": {},
     "output_type": "execute_result"
    }
   ],
   "source": [
    "mat1 * mat2 # index multiplication"
   ]
  },
  {
   "cell_type": "code",
   "execution_count": 45,
   "id": "40f70521",
   "metadata": {},
   "outputs": [
    {
     "data": {
      "text/plain": [
       "array([[0, 0, 0, 0],\n",
       "       [0, 0, 0, 0],\n",
       "       [0, 0, 0, 0]])"
      ]
     },
     "execution_count": 45,
     "metadata": {},
     "output_type": "execute_result"
    }
   ],
   "source": [
    "mat2 - mat1  #\n"
   ]
  },
  {
   "cell_type": "code",
   "execution_count": 46,
   "id": "bd73a180",
   "metadata": {},
   "outputs": [
    {
     "data": {
      "text/plain": [
       "array([[1., 1., 1., 1.],\n",
       "       [1., 1., 1., 1.],\n",
       "       [1., 1., 1., 1.]])"
      ]
     },
     "execution_count": 46,
     "metadata": {},
     "output_type": "execute_result"
    }
   ],
   "source": [
    "mat2 / mat1"
   ]
  },
  {
   "cell_type": "markdown",
   "id": "ad45f3e2",
   "metadata": {},
   "source": [
    "12.  Which function in Numpy can be used to swap the byte or^er of an array?"
   ]
  },
  {
   "cell_type": "code",
   "execution_count": 44,
   "id": "dc5177e7",
   "metadata": {},
   "outputs": [
    {
     "name": "stdout",
     "output_type": "stream",
     "text": [
      "Array with byte order swapped: [16777216 33554432 50331648 67108864]\n"
     ]
    }
   ],
   "source": [
    "arr = np.array([1, 2, 3, 4], dtype=np.int32)\n",
    "\n",
    "arr.byteswap(True)\n",
    "\n",
    "print(\"Array with byte order swapped:\", arr)\n"
   ]
  },
  {
   "cell_type": "markdown",
   "id": "d1673fe1",
   "metadata": {},
   "source": [
    "13.  What is the significance of the np.linalg.inv function?"
   ]
  },
  {
   "cell_type": "raw",
   "id": "66b0f076",
   "metadata": {},
   "source": [
    "The np.linalg.inv function in NumPy computes the inverse of a square matrix.\n",
    "It is significant for solving systems of linear equations and for various mathematical computations involving matrices.\n",
    "However, not all matrices have an inverse, so it's crucial to check for singularity before applying this function"
   ]
  },
  {
   "cell_type": "markdown",
   "id": "27bdf5d4",
   "metadata": {},
   "source": [
    "14. What does the np.reshape function do, and how is it use^?"
   ]
  },
  {
   "cell_type": "raw",
   "id": "bd5d15ee",
   "metadata": {},
   "source": [
    "The np.reshape function in NumPy is used to change the shape (dimensions) of an array while keeping the same elements. It allows you to reshape arrays into different dimensions or sizes."
   ]
  },
  {
   "cell_type": "markdown",
   "id": "128ff42f",
   "metadata": {},
   "source": [
    "15. What is broa^casting in Numpy?"
   ]
  },
  {
   "cell_type": "raw",
   "id": "d27bcc59",
   "metadata": {},
   "source": [
    "Broadcasting in NumPy refers to the implicit and automatic handling of operations between arrays of different shapes, enabling arithmetic operations to be performed on arrays of unequal shapes without explicit looping. It allows NumPy to perform element-wise operations even when the arrays have different shapes, by effectively extending the smaller array to match the shape of the larger one."
   ]
  },
  {
   "cell_type": "code",
   "execution_count": null,
   "id": "b75fe19f",
   "metadata": {},
   "outputs": [],
   "source": []
  }
 ],
 "metadata": {
  "kernelspec": {
   "display_name": "Python 3 (ipykernel)",
   "language": "python",
   "name": "python3"
  },
  "language_info": {
   "codemirror_mode": {
    "name": "ipython",
    "version": 3
   },
   "file_extension": ".py",
   "mimetype": "text/x-python",
   "name": "python",
   "nbconvert_exporter": "python",
   "pygments_lexer": "ipython3",
   "version": "3.11.5"
  }
 },
 "nbformat": 4,
 "nbformat_minor": 5
}
